{
 "cells": [
  {
   "cell_type": "markdown",
   "id": "5e6d1af0",
   "metadata": {},
   "source": [
    "### Notes for Harry \n",
    "#### by August George, 2022\n",
    "\n",
    "ref on implementation: https://si.sciml.ai/dev/ \n",
    "\n",
    "ref on transporter modeling: https://journals.plos.org/ploscompbiol/article/authors?id=10.1371/journal.pcbi.1007884"
   ]
  },
  {
   "cell_type": "code",
   "execution_count": 7,
   "id": "9b7afcc3",
   "metadata": {},
   "outputs": [],
   "source": [
    "using Catalyst, DifferentialEquations, StructuralIdentifiability, ModelingToolkit"
   ]
  },
  {
   "cell_type": "code",
   "execution_count": 8,
   "id": "4d884332",
   "metadata": {},
   "outputs": [
    {
     "data": {
      "text/latex": [
       "\\begin{align}\n",
       "\\require{mhchem}\n",
       "\\ce{ OF &<=>[H_{out} k1_{f}][k1_{r}] OF_{Hb}}\\\\\n",
       "\\ce{ OF_{Hb} &<=>[k2_{f}][k2_{r}] IF_{Hb}}\\\\\n",
       "\\ce{ IF_{Hb} + S_{in} &<=>[k3_{f}][k3_{r}] IF_{Hb\\_Sb}}\\\\\n",
       "\\ce{ IF_{Hb\\_Sb} &<=>[k4_{f}][k4_{r}] IF_{Sb} + H_{in}}\\\\\n",
       "\\ce{ IF_{Sb} &<=>[k5_{f}][k5_{r}] OF_{Sb}}\\\\\n",
       "\\ce{ OF_{Sb} &<=>[k6_{f}][S_{out} k6_{r}] OF}\n",
       "\\end{align}\n"
      ],
      "text/plain": [
       "\u001b[0m\u001b[1mModel ##ReactionSystem#301 with 12 equations\u001b[22m\n",
       "\u001b[0m\u001b[1mStates (8):\u001b[22m\n",
       "  OF(t)\n",
       "  OF_Hb(t)\n",
       "  IF_Hb(t)\n",
       "  S_in(t)\n",
       "  IF_Hb_Sb(t)\n",
       "  IF_Sb(t)\n",
       "⋮\n",
       "\u001b[0m\u001b[1mParameters (14):\u001b[22m\n",
       "  H_out\n",
       "  S_out\n",
       "  k1_f\n",
       "  k1_r\n",
       "  k2_f\n",
       "  k2_r\n",
       "⋮"
      ]
     },
     "execution_count": 8,
     "metadata": {},
     "output_type": "execute_result"
    }
   ],
   "source": [
    "### define reaction network in Catalyst\n",
    "# notes: \n",
    "# H = H+/ion, S = substrate\n",
    "# 'OF' = outward facing conformation, 'IF' = inward facing conformation\n",
    "# 'H_out' and 'S_out' = fixed external concentrations of the ion and substrate, respectively\n",
    "# 'H_in' and 'S_in' = internal concentrations of the ion and substrate, respectively\n",
    "# 'Hb' and 'Sb' are the ion and/or substrate bound to the protein, respectively\n",
    "\n",
    "# single antiporter pathway (ion and substrate transported in opposite directions)\n",
    "rn = @reaction_network begin\n",
    "  (k1_f*H_out, k1_r), OF <--> OF_Hb\n",
    "  (k2_f, k2_r), OF_Hb <--> IF_Hb\n",
    "  (k3_f, k3_r), IF_Hb + S_in <--> IF_Hb_Sb\n",
    "  (k4_f, k4_r), IF_Hb_Sb <--> IF_Sb + H_in\n",
    "  (k5_f, k5_r), IF_Sb <--> OF_Sb\n",
    "  (k6_f, k6_r*S_out), OF_Sb <--> OF\n",
    "end H_out S_out k1_f k1_r k2_f k2_r k3_f k3_r k4_f k4_r k5_f k5_r k6_f k6_r"
   ]
  },
  {
   "cell_type": "code",
   "execution_count": 9,
   "id": "821f4bf0",
   "metadata": {},
   "outputs": [
    {
     "data": {
      "text/latex": [
       "\\begin{align}\n",
       "\\frac{dOF(t)}{dt} =& k1_{r} \\mathrm{OF\\_Hb}\\left( t \\right) + k6_{f} \\mathrm{OF\\_Sb}\\left( t \\right) - H_{out} k1_{f} \\mathrm{OF}\\left( t \\right) - S_{out} k6_{r} \\mathrm{OF}\\left( t \\right) \\\\\n",
       "\\frac{dOF_{Hb(t)}}{dt} =& k2_{r} \\mathrm{IF\\_Hb}\\left( t \\right) + H_{out} k1_{f} \\mathrm{OF}\\left( t \\right) - k1_{r} \\mathrm{OF\\_Hb}\\left( t \\right) - k2_{f} \\mathrm{OF\\_Hb}\\left( t \\right) \\\\\n",
       "\\frac{dIF_{Hb(t)}}{dt} =& k3_{r} \\mathrm{IF\\_Hb\\_Sb}\\left( t \\right) + k2_{f} \\mathrm{OF\\_Hb}\\left( t \\right) - k2_{r} \\mathrm{IF\\_Hb}\\left( t \\right) - k3_{f} \\mathrm{IF\\_Hb}\\left( t \\right) \\mathrm{S\\_in}\\left( t \\right) \\\\\n",
       "\\frac{dS_{in(t)}}{dt} =& k3_{r} \\mathrm{IF\\_Hb\\_Sb}\\left( t \\right) - k3_{f} \\mathrm{IF\\_Hb}\\left( t \\right) \\mathrm{S\\_in}\\left( t \\right) \\\\\n",
       "\\frac{dIF_{Hb\\_Sb(t)}}{dt} =&  - k3_{r} \\mathrm{IF\\_Hb\\_Sb}\\left( t \\right) - k4_{f} \\mathrm{IF\\_Hb\\_Sb}\\left( t \\right) + k3_{f} \\mathrm{IF\\_Hb}\\left( t \\right) \\mathrm{S\\_in}\\left( t \\right) + k4_{r} \\mathrm{H\\_in}\\left( t \\right) \\mathrm{IF\\_Sb}\\left( t \\right) \\\\\n",
       "\\frac{dIF_{Sb(t)}}{dt} =& k4_{f} \\mathrm{IF\\_Hb\\_Sb}\\left( t \\right) + k5_{r} \\mathrm{OF\\_Sb}\\left( t \\right) - k5_{f} \\mathrm{IF\\_Sb}\\left( t \\right) - k4_{r} \\mathrm{H\\_in}\\left( t \\right) \\mathrm{IF\\_Sb}\\left( t \\right) \\\\\n",
       "\\frac{dH_{in(t)}}{dt} =& k4_{f} \\mathrm{IF\\_Hb\\_Sb}\\left( t \\right) - k4_{r} \\mathrm{H\\_in}\\left( t \\right) \\mathrm{IF\\_Sb}\\left( t \\right) \\\\\n",
       "\\frac{dOF_{Sb(t)}}{dt} =& k5_{f} \\mathrm{IF\\_Sb}\\left( t \\right) + S_{out} k6_{r} \\mathrm{OF}\\left( t \\right) - k5_{r} \\mathrm{OF\\_Sb}\\left( t \\right) - k6_{f} \\mathrm{OF\\_Sb}\\left( t \\right)\n",
       "\\end{align}\n"
      ],
      "text/plain": [
       "8-element Vector{Equation}:\n",
       " Differential(t)(OF(t)) ~ k1_r*OF_Hb(t) + k6_f*OF_Sb(t) - H_out*k1_f*OF(t) - S_out*k6_r*OF(t)\n",
       " Differential(t)(OF_Hb(t)) ~ k2_r*IF_Hb(t) + H_out*k1_f*OF(t) - k1_r*OF_Hb(t) - k2_f*OF_Hb(t)\n",
       " Differential(t)(IF_Hb(t)) ~ k3_r*IF_Hb_Sb(t) + k2_f*OF_Hb(t) - k2_r*IF_Hb(t) - k3_f*IF_Hb(t)*S_in(t)\n",
       " Differential(t)(S_in(t)) ~ k3_r*IF_Hb_Sb(t) - k3_f*IF_Hb(t)*S_in(t)\n",
       " Differential(t)(IF_Hb_Sb(t)) ~ k3_f*IF_Hb(t)*S_in(t) + k4_r*H_in(t)*IF_Sb(t) - k3_r*IF_Hb_Sb(t) - k4_f*IF_Hb_Sb(t)\n",
       " Differential(t)(IF_Sb(t)) ~ k4_f*IF_Hb_Sb(t) + k5_r*OF_Sb(t) - k5_f*IF_Sb(t) - k4_r*H_in(t)*IF_Sb(t)\n",
       " Differential(t)(H_in(t)) ~ k4_f*IF_Hb_Sb(t) - k4_r*H_in(t)*IF_Sb(t)\n",
       " Differential(t)(OF_Sb(t)) ~ k5_f*IF_Sb(t) + S_out*k6_r*OF(t) - k5_r*OF_Sb(t) - k6_f*OF_Sb(t)"
      ]
     },
     "execution_count": 9,
     "metadata": {},
     "output_type": "execute_result"
    }
   ],
   "source": [
    "### latexify\n",
    "odesys = convert(ODESystem, rn)\n",
    "equations(odesys)"
   ]
  },
  {
   "cell_type": "code",
   "execution_count": 11,
   "id": "0447d1f9",
   "metadata": {},
   "outputs": [
    {
     "name": "stdout",
     "output_type": "stream",
     "text": [
      "  0.402104 seconds (2.85 M allocations: 322.915 MiB, 26.95% gc time, 0.96% compilation time)\n",
      "Dict{Nemo.fmpq_mpoly, Bool}(IF_Sb => 1, S_in => 1, S_out => 1, k3_f => 1, k1_f => 1, k6_f => 1, k2_f => 1, k4_f => 1, H_out => 1, k1_r => 1, OF_Hb => 1, IF_Hb => 1, k5_f => 1, k3_r => 1, k2_r => 1, H_in => 1, OF_Sb => 1, OF => 1, k6_r => 1, k4_r => 1, k5_r => 1, IF_Hb_Sb => 1)\n"
     ]
    },
    {
     "name": "stderr",
     "output_type": "stream",
     "text": [
      "┌ Info: Summary of the model:\n",
      "└ @ StructuralIdentifiability /Users/georgeau/.julia/packages/StructuralIdentifiability/EQH60/src/ODE.jl:303\n",
      "┌ Info: State variables: S_in, IF_Hb_Sb, OF, H_in, IF_Hb, OF_Sb, IF_Sb, OF_Hb\n",
      "└ @ StructuralIdentifiability /Users/georgeau/.julia/packages/StructuralIdentifiability/EQH60/src/ODE.jl:304\n",
      "┌ Info: Parameters: k2_f, k5_f, k4_r, S_out, k3_r, k3_f, k4_f, k5_r, k1_f, H_out, k6_f, k1_r, k6_r, k2_r\n",
      "└ @ StructuralIdentifiability /Users/georgeau/.julia/packages/StructuralIdentifiability/EQH60/src/ODE.jl:305\n",
      "┌ Info: Inputs: \n",
      "└ @ StructuralIdentifiability /Users/georgeau/.julia/packages/StructuralIdentifiability/EQH60/src/ODE.jl:306\n",
      "┌ Info: Outputs: y3, y1, y2\n",
      "└ @ StructuralIdentifiability /Users/georgeau/.julia/packages/StructuralIdentifiability/EQH60/src/ODE.jl:307\n"
     ]
    }
   ],
   "source": [
    "# make ODE model w/ 3 obersved quantities (H_out, S_out, and dH_in/dt)\n",
    "rn_ode = @ODEmodel(\n",
    "    OF'(t) = k1_r*OF_Hb(t)+k6_f*OF_Sb(t)−H_out*k1_f*OF(t)−S_out*k6_r*OF(t),\n",
    "    OF_Hb'(t) = k2_r*IF_Hb(t)+H_out*k1_f*OF(t)−k1_r*OF_Hb(t)−k2_f*OF_Hb(t),\n",
    "    IF_Hb'(t) = k3_r*IF_Hb_Sb(t)+k2_f*OF_Hb(t)−k2_r*IF_Hb(t)−k3_f*IF_Hb(t)*S_in(t),\n",
    "    S_in'(t) = k3_r*IF_Hb_Sb(t)−k3_f*IF_Hb(t)*S_in(t),\n",
    "    IF_Hb_Sb'(t) = −k3_r*IF_Hb_Sb(t)−k4_f*IF_Hb_Sb(t)+k3_f*IF_Hb(t)*S_in(t)+k4_r*H_in(t)*IF_Sb(t),\n",
    "    IF_Sb'(t) = k4_f*IF_Hb_Sb(t)+k5_r*OF_Sb(t)−k5_f*IF_Sb(t)−k4_r*H_in(t)*IF_Sb(t),\n",
    "    H_in'(t) = k4_f*IF_Hb_Sb(t)−k4_r*H_in(t)*IF_Sb(t),\n",
    "    OF_Sb'(t) = k5_f*IF_Sb(t)+S_out*k6_r*OF(t)−k5_r*OF_Sb(t)−k6_f*OF_Sb(t), \n",
    "    \n",
    "    y1(t) = H_out, \n",
    "    y2(t) = S_out, \n",
    "    y3(t) = H_in'(t)\n",
    ")\n",
    "\n",
    "# run local identifiability w/ 99% probability\n",
    "@time local_id = assess_local_identifiability(rn_ode, 0.99)\n",
    "println(local_id)\n",
    "\n",
    "# # run global identifiability w/ 99% probability (might be really slow)\n",
    "# @time global_id = assess_global_identifiability(rn_ode, 0.99)\n",
    "# println(global_id)"
   ]
  },
  {
   "cell_type": "code",
   "execution_count": null,
   "id": "b4708199",
   "metadata": {},
   "outputs": [],
   "source": []
  }
 ],
 "metadata": {
  "kernelspec": {
   "display_name": "Julia 1.7.2",
   "language": "julia",
   "name": "julia-1.7"
  },
  "language_info": {
   "file_extension": ".jl",
   "mimetype": "application/julia",
   "name": "julia",
   "version": "1.7.2"
  }
 },
 "nbformat": 4,
 "nbformat_minor": 5
}
