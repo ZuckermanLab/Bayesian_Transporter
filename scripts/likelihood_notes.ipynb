{
 "cells": [
  {
   "cell_type": "markdown",
   "id": "ee104a06",
   "metadata": {},
   "source": [
    "### Normal likelihood\n",
    "\n",
    "$L(\\mu,\\sigma^2|x_1,...,x_n)= (2\\pi\\sigma^2)^{(-n/2)}\\exp\\left(-\\dfrac{1}{2\\sigma^2}\\sum_{j=1}^{n} (x_j-\\mu)^2\\right)$\n",
    "\n",
    "ref: https://www.statlect.com/fundamentals-of-statistics/normal-distribution-maximum-likelihood \n"
   ]
  },
  {
   "cell_type": "code",
   "execution_count": 41,
   "id": "3b763fd5",
   "metadata": {},
   "outputs": [],
   "source": [
    "import math, numpy as np, matplotlib.pyplot as plt\n",
    "\n",
    "def calc_normal_likelihood(mu,sigma,X):\n",
    "    n = len(X)\n",
    "    c1 = (2*np.pi*sigma**2)**(-n/2)\n",
    "    c2 = -1/(2*sigma**2)\n",
    "    exp_sum = np.sum(np.square(X-mu))\n",
    "    L = c1*np.exp(c2*exp_sum)\n",
    "    return L"
   ]
  },
  {
   "cell_type": "code",
   "execution_count": 63,
   "id": "e23fe287",
   "metadata": {},
   "outputs": [
    {
     "data": {
      "text/plain": [
       "[<matplotlib.lines.Line2D at 0x7f9481a2e760>]"
      ]
     },
     "execution_count": 63,
     "metadata": {},
     "output_type": "execute_result"
    },
    {
     "data": {
      "image/png": "[encoded data removed]",
      "text/plain": [
       "<Figure size 432x288 with 1 Axes>"
      ]
     },
     "metadata": {
      "needs_background": "light"
     },
     "output_type": "display_data"
    }
   ],
   "source": [
    "sigma = 0.1\n",
    "n_data = 2\n",
    "\n",
    "a = 0.5\n",
    "b = 1\n",
    "t = np.linspace(1,10, n_data)\n",
    "y_true = a*t+b\n",
    "y_obs = y_true + np.random.normal(0, sigma, len(y_true))\n",
    "\n",
    "plt.plot(t,y_true)\n",
    "plt.plot(t,y_obs, 'o')"
   ]
  },
  {
   "cell_type": "code",
   "execution_count": 64,
   "id": "3beee9c7",
   "metadata": {
    "scrolled": false
   },
   "outputs": [
    {
     "name": "stderr",
     "output_type": "stream",
     "text": [
      "/var/folders/n9/ypwpwtxs29dgh8ycr8xkgcp0n7tvkv/T/ipykernel_6899/1279493085.py:16: MatplotlibDeprecationWarning: shading='flat' when X and Y have the same dimensions as C is deprecated since 3.3.  Either specify the corners of the quadrilaterals with X and Y, or pass shading='auto', 'nearest' or 'gouraud', or set rcParams['pcolor.shading'].  This will become an error two minor releases later.\n",
      "  plt.pcolor(a_tmp, b_tmp, Z)\n"
     ]
    },
    {
     "data": {
      "image/png": "[encoded data removed]",
      "text/plain": [
       "<Figure size 432x288 with 1 Axes>"
      ]
     },
     "metadata": {
      "needs_background": "light"
     },
     "output_type": "display_data"
    }
   ],
   "source": [
    "a_vals = np.linspace(-1,1,100)\n",
    "b_vals = np.linspace(-2,2,100)\n",
    "\n",
    "def f(a, b, sigma, mu, t): \n",
    "    X = a*t+b\n",
    "    L = calc_normal_likelihood(mu,sigma,X)\n",
    "    return L\n",
    "\n",
    "a_tmp, b_tmp = np.meshgrid(a_vals,b_vals)\n",
    "Z = np.zeros((100,100))\n",
    "\n",
    "for i in range(100):\n",
    "    for j in range(100):\n",
    "        Z[i,j] = f(a_tmp[i,j],b_tmp[i,j],sigma,y_obs,t)\n",
    "\n",
    "plt.pcolor(a_tmp, b_tmp, Z)\n",
    "plt.show()"
   ]
  },
  {
   "cell_type": "code",
   "execution_count": null,
   "id": "c2831592",
   "metadata": {},
   "outputs": [],
   "source": []
  }
 ],
 "metadata": {
  "kernelspec": {
   "display_name": "Python 3 (ipykernel)",
   "language": "python",
   "name": "python3"
  },
  "language_info": {
   "codemirror_mode": {
    "name": "ipython",
    "version": 3
   },
   "file_extension": ".py",
   "mimetype": "text/x-python",
   "name": "python",
   "nbconvert_exporter": "python",
   "pygments_lexer": "ipython3",
   "version": "3.9.7"
  }
 },
 "nbformat": 4,
 "nbformat_minor": 5
}
