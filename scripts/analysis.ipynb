{
 "cells": [
  {
   "cell_type": "markdown",
   "id": "4dafcce5-7ca5-4fdb-b287-3f7718a1e9fe",
   "metadata": {},
   "source": [
    "# Analysis notebook for Bayesian inference \n",
    "### August George, 2022, OHSU"
   ]
  },
  {
   "cell_type": "markdown",
   "id": "c3918869-e080-48f4-8789-885ac5abb4bc",
   "metadata": {
    "jp-MarkdownHeadingCollapsed": true,
    "tags": []
   },
   "source": [
    "## Plotting and analysis functions"
   ]
  },
  {
   "cell_type": "markdown",
   "id": "6928bed6-817b-4a2b-8301-9028d7cbca19",
   "metadata": {
    "tags": []
   },
   "source": [
    "#### RMSD"
   ]
  },
  {
   "cell_type": "code",
   "execution_count": null,
   "id": "de996f4e-be59-4289-8a85-ddd9c8630002",
   "metadata": {},
   "outputs": [],
   "source": []
  },
  {
   "cell_type": "markdown",
   "id": "477b70cc-48c4-4c43-b05a-8a897575b8a3",
   "metadata": {},
   "source": [
    "#### 1D marginal posterior distributions"
   ]
  },
  {
   "cell_type": "code",
   "execution_count": null,
   "id": "1611a0f3-a80e-4785-a8b2-7fe0304f13ed",
   "metadata": {},
   "outputs": [],
   "source": []
  },
  {
   "cell_type": "markdown",
   "id": "ad9f13c5-8801-41b5-b337-c61122418d28",
   "metadata": {
    "tags": []
   },
   "source": [
    "## Plotting MCMC trajectories "
   ]
  },
  {
   "cell_type": "code",
   "execution_count": null,
   "id": "7cfa95c3-40cb-4142-b4ef-040e5115fe3d",
   "metadata": {},
   "outputs": [],
   "source": []
  },
  {
   "cell_type": "markdown",
   "id": "d59a3ac7-186f-4f3b-b4f5-7d0a537d8284",
   "metadata": {},
   "source": [
    "## Analysis"
   ]
  },
  {
   "cell_type": "markdown",
   "id": "5ddf7796-a694-4ef8-bd00-bc13ac74fa9e",
   "metadata": {},
   "source": [
    "#### import modules and load data"
   ]
  },
  {
   "cell_type": "code",
   "execution_count": 2,
   "id": "0412085e-7b46-42fc-b9a7-8216a76c073f",
   "metadata": {},
   "outputs": [],
   "source": [
    "import numpy as np, pandas as pd, scipy as sp, matplotlib.pyplot as plt"
   ]
  },
  {
   "cell_type": "code",
   "execution_count": null,
   "id": "3cfd3bde-0d06-4280-94e6-509e97695dac",
   "metadata": {},
   "outputs": [],
   "source": [
    "run1 = 'fname'\n",
    "run2 = 'fname'"
   ]
  },
  {
   "cell_type": "code",
   "execution_count": null,
   "id": "313d3b3e-1eaf-4fb4-a10c-3804ea3cec26",
   "metadata": {},
   "outputs": [],
   "source": []
  }
 ],
 "metadata": {
  "kernelspec": {
   "display_name": "Python 3 (ipykernel)",
   "language": "python",
   "name": "python3"
  },
  "language_info": {
   "codemirror_mode": {
    "name": "ipython",
    "version": 3
   },
   "file_extension": ".py",
   "mimetype": "text/x-python",
   "name": "python",
   "nbconvert_exporter": "python",
   "pygments_lexer": "ipython3",
   "version": "3.10.5"
  }
 },
 "nbformat": 4,
 "nbformat_minor": 5
}
